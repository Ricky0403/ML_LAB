{
 "cells": [
  {
   "cell_type": "code",
   "execution_count": 1,
   "id": "1a27d01a",
   "metadata": {},
   "outputs": [],
   "source": [
    "import pandas as pd\n",
    "import numpy as np"
   ]
  },
  {
   "cell_type": "code",
   "execution_count": 2,
   "id": "04260a78",
   "metadata": {},
   "outputs": [],
   "source": [
    "data = pd.read_csv(\"fruits_data_Assigment 2.csv\")\n",
    "df = pd.DataFrame(data)"
   ]
  },
  {
   "cell_type": "code",
   "execution_count": 3,
   "id": "7eb0e77e",
   "metadata": {},
   "outputs": [],
   "source": [
    "def find_s_algorithm(data):\n",
    "    # Initialize the hypothesis with the most specific values\n",
    "    hypothesis = ['null'] * (data.shape[1] - 1)\n",
    "    \n",
    "    # Iterate over each example in the dataset\n",
    "    for i in range(data.shape[0]):\n",
    "        if data.iloc[i, -1] == 'Positive':  # Focus on positive examples\n",
    "            example = data.iloc[i, :-1]\n",
    "            \n",
    "            if 'null' in hypothesis:  # Initialize the hypothesis\n",
    "                hypothesis = example.copy()\n",
    "            else:\n",
    "                # Generalize the hypothesis where necessary\n",
    "                for j in range(len(hypothesis)):\n",
    "                    if hypothesis[j] != example[j]:\n",
    "                        hypothesis[j] = '?'\n",
    "    \n",
    "    return hypothesis"
   ]
  },
  {
   "cell_type": "code",
   "execution_count": 4,
   "id": "12b134e8",
   "metadata": {},
   "outputs": [
    {
     "data": {
      "text/plain": [
       "Color      Red\n",
       "Size         ?\n",
       "Shape        ?\n",
       "Taste    Sweet\n",
       "Name: 0, dtype: object"
      ]
     },
     "execution_count": 4,
     "metadata": {},
     "output_type": "execute_result"
    }
   ],
   "source": [
    "hypothesis = find_s_algorithm(data)\n",
    "hypothesis"
   ]
  },
  {
   "cell_type": "code",
   "execution_count": null,
   "id": "e5d3a81e",
   "metadata": {},
   "outputs": [],
   "source": []
  }
 ],
 "metadata": {
  "kernelspec": {
   "display_name": "Python 3 (ipykernel)",
   "language": "python",
   "name": "python3"
  },
  "language_info": {
   "codemirror_mode": {
    "name": "ipython",
    "version": 3
   },
   "file_extension": ".py",
   "mimetype": "text/x-python",
   "name": "python",
   "nbconvert_exporter": "python",
   "pygments_lexer": "ipython3",
   "version": "3.11.5"
  }
 },
 "nbformat": 4,
 "nbformat_minor": 5
}
